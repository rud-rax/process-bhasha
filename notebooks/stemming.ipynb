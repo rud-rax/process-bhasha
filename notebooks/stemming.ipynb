{
 "cells": [
  {
   "cell_type": "code",
   "execution_count": 1,
   "metadata": {},
   "outputs": [],
   "source": [
    "%load_ext autoreload\n",
    "%autoreload 2"
   ]
  },
  {
   "cell_type": "code",
   "execution_count": 2,
   "metadata": {},
   "outputs": [],
   "source": [
    "import os\n",
    "os.chdir('..')"
   ]
  },
  {
   "cell_type": "code",
   "execution_count": 3,
   "metadata": {},
   "outputs": [
    {
     "name": "stderr",
     "output_type": "stream",
     "text": [
      "[nltk_data] Downloading package wordnet to\n",
      "[nltk_data]     /Users/ha5hkat/PROGRAMS/process-bhasha/var/nltk...\n",
      "[nltk_data]   Package wordnet is already up-to-date!\n",
      "[nltk_data] Downloading package punkt to\n",
      "[nltk_data]     /Users/ha5hkat/PROGRAMS/process-bhasha/var/nltk...\n",
      "[nltk_data]   Package punkt is already up-to-date!\n",
      "[nltk_data] Downloading package averaged_perceptron_tagger to\n",
      "[nltk_data]     /Users/ha5hkat/PROGRAMS/process-bhasha/var/nltk...\n",
      "[nltk_data]   Package averaged_perceptron_tagger is already up-to-\n",
      "[nltk_data]       date!\n"
     ]
    }
   ],
   "source": [
    "from imports import Stemming"
   ]
  },
  {
   "cell_type": "code",
   "execution_count": 4,
   "metadata": {},
   "outputs": [],
   "source": [
    "text = \"\"\"\n",
    "I HAVE THREE VISIONS FOR INDIA\n",
    " \n",
    "In 3000 years of our history, people from all over the world have come and invaded us, captured our lands, conquered our minds. From Alexander on-wards. The Greeks ,the Turks’, the-Moguls, the Portuguese, the British, the French, the Dutch, all of them came and looted us, took over what was ours. Yet we have not done this to any other nation. We have not conquered anyone.\n",
    " \n",
    "We have not grabbed their land, their culture, their history and tried to enforce our way of life on them. Why? Because we respect the freedom of others. That is why my first vision is that of FREEDOM. I believe that India got its first vision of this in 1857,when we started the war of independence. It is this freedom that we must protect and nurture and build on. If we are not free, no one will respect us.\n",
    "\"\"\""
   ]
  },
  {
   "cell_type": "code",
   "execution_count": 5,
   "metadata": {},
   "outputs": [
    {
     "name": "stdout",
     "output_type": "stream",
     "text": [
      "i have three vision for india in 3000 year of our histori , peopl from all over the world have come and invad us , captur our land , conquer our mind . from alexand on-ward . the greek , the turk ’ , the-mogul , the portugues , the british , the french , the dutch , all of them came and loot us , took over what wa our . yet we have not done thi to ani other nation . we have not conquer anyon . we have not grab their land , their cultur , their histori and tri to enforc our way of life on them . whi ? becaus we respect the freedom of other . that is whi my first vision is that of freedom . i believ that india got it first vision of thi in 1857 , when we start the war of independ . it is thi freedom that we must protect and nurtur and build on . if we are not free , no one will respect us .\n"
     ]
    }
   ],
   "source": [
    "stemmed_text = Stemming.run(stemmer= 'porter',text_data=text)\n",
    "print(stemmed_text)"
   ]
  },
  {
   "cell_type": "code",
   "execution_count": 6,
   "metadata": {},
   "outputs": [
    {
     "name": "stdout",
     "output_type": "stream",
     "text": [
      "i have three vision for india in 3000 year of our histori , peopl from all over the world have come and invad us , captur our land , conquer our mind . from alexand on-ward . the greek , the turk ’ , the-mogul , the portugues , the british , the french , the dutch , all of them came and loot us , took over what was our . yet we have not done this to ani other nation . we have not conquer anyon . we have not grab their land , their cultur , their histori and tri to enforc our way of life on them . whi ? becaus we respect the freedom of other . that is whi my first vision is that of freedom . i believ that india got it first vision of this in 1857 , when we start the war of independ . it is this freedom that we must protect and nurtur and build on . if we are not free , no one will respect us .\n"
     ]
    }
   ],
   "source": [
    "stemmed_text = Stemming.run(stemmer= 'snowball',text_data=text)\n",
    "print(stemmed_text)\n"
   ]
  }
 ],
 "metadata": {
  "kernelspec": {
   "display_name": ".venv",
   "language": "python",
   "name": "python3"
  },
  "language_info": {
   "codemirror_mode": {
    "name": "ipython",
    "version": 3
   },
   "file_extension": ".py",
   "mimetype": "text/x-python",
   "name": "python",
   "nbconvert_exporter": "python",
   "pygments_lexer": "ipython3",
   "version": "3.12.2"
  }
 },
 "nbformat": 4,
 "nbformat_minor": 2
}
